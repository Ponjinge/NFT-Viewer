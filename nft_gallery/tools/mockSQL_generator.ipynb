{
 "cells": [
  {
   "cell_type": "code",
   "execution_count": 3,
   "metadata": {},
   "outputs": [
    {
     "name": "stdout",
     "output_type": "stream",
     "text": [
      "INSERT INTO nft_gallery_post (id, name, created_at, updated_at, url, description, artist, year, mediatype) VALUES \n",
      "('3', 'first nft', '2024-07-28 02:36:25.42514+00', NULL, 'https://uploadthing-prod-sea1.s3.us-west-2.amazonaws.com/3e1ab638-b766-4cbc-95e3-7138984e02ef-n23chc.jpg', 'Description for first nft', 'Artist Name 1', '2024', 'image'),\n",
      "('4', 'nft2', '2024-07-28 02:37:03.522372+00', NULL, 'https://uploadthing-prod-sea1.s3.us-west-2.amazonaws.com/f1b63725-e52a-4caa-bda3-cd3e7b93ec87-j3p0nh.jpg', 'Description for nft2', 'Artist Name 2', '2024', 'image'),\n",
      "('5', '3nft', '2024-07-28 02:37:32.42876+00', NULL, 'https://uploadthing-prod-sea1.s3.us-west-2.amazonaws.com/bec58918-cbba-482b-92f6-bbbc2802ded9-48p68b.jpg', 'Description for 3nft', 'Artist Name 3', '2024', 'image'),\n",
      "('6', '4nft', '2024-07-28 02:37:59.533254+00', NULL, 'https://utfs.io/f/cb619dcc-b38f-4ba4-aa25-a20043ce49b9-4yz4fm.jpg', 'Description for 4nft', 'Artist Name 4', '2024', 'image'),\n",
      "('9', 'Dinos', '2024-07-28 22:26:57.435534+00', NULL, 'https://utfs.io/f/083ba427-e7e4-4a4d-95fd-35a0694f1ad3-5hwgqy.webp', 'Description for Dinos', 'Artist Name 5', '2024', 'image'),\n",
      "('10', 'Rocks', '2024-07-28 22:26:57.498387+00', NULL, 'https://utfs.io/f/0833c891-6ee2-4c53-8645-c2312cd49723-eh9nf7.webp', 'Description for Rocks', 'Artist Name 6', '2024', 'image'),\n",
      "('11', 'Gems', '2024-07-28 22:26:57.552674+00', NULL, 'https://utfs.io/f/d6e2178b-2b8c-4f18-a8f8-53087fd33847-fbfyga.webp', 'Description for Gems', 'Artist Name 7', '2024', 'image'),\n",
      "('12', 'Expositions', '2024-07-28 22:26:57.605852+00', NULL, 'https://utfs.io/f/e5e52dd0-3939-4412-9378-58f7ca7cc83d-vkd085.webp', 'Description for Expositions', 'Artist Name 8', '2024', 'image'),\n",
      "('13', '****', '2024-07-28 22:26:57.658287+00', NULL, 'https://utfs.io/f/ff1bafba-6343-44df-be93-37ce4f8a17c2-l8tiae.webp', 'Description for ****', 'Artist Name 9', '2024', 'image'),\n",
      "('14', 'Gem expo', '2024-07-28 22:26:57.712093+00', NULL, 'https://utfs.io/f/f628e6b3-4cfa-42f8-93bf-255713bbc413-qdoi8i.webp', 'Description for Gem expo', 'Artist Name 10', '2024', 'image'),\n",
      "('15', 'Fish Dino', '2024-07-28 22:26:57.765167+00', NULL, 'https://utfs.io/f/a79867e5-6720-414b-99de-64f016091f97-g18v66.webp', 'Description for Fish Dino', 'Artist Name 11', '2024', 'image');\n"
     ]
    }
   ],
   "source": [
    "import pandas as pd\n",
    "import numpy as np\n",
    "\n",
    "# Load the CSV file\n",
    "nft_gallery_df = pd.read_csv('nft_gallery_post.csv')\n",
    "\n",
    "\n",
    "# Fill in missing columns with placeholder values\n",
    "nft_gallery_df['description'] = ['Description for ' + name for name in nft_gallery_df['name']]\n",
    "nft_gallery_df['artist'] = ['Artist Name ' + str(i+1) for i in range(len(nft_gallery_df))]\n",
    "nft_gallery_df['year'] = '2024'\n",
    "nft_gallery_df['mediatype'] = 'image'\n",
    "\n",
    "# Function to format the SQL value strings\n",
    "def format_sql_value(value):\n",
    "    if pd.isna(value):\n",
    "        return 'NULL'\n",
    "    return f\"'{value}'\"\n",
    "\n",
    "# Generate the SQL insert statements\n",
    "insert_statements = []\n",
    "for _, row in nft_gallery_df.iterrows():\n",
    "    values = \", \".join(format_sql_value(row[col]) for col in nft_gallery_df.columns)\n",
    "    insert_statements.append(f\"({values})\")\n",
    "\n",
    "# Create the final SQL command\n",
    "sql_command = f\"INSERT INTO nft_gallery_post (id, name, created_at, updated_at, url, description, artist, year, mediatype) VALUES \\n\" + \",\\n\".join(insert_statements) + \";\"\n",
    "\n",
    "print(sql_command)\n"
   ]
  },
  {
   "cell_type": "code",
   "execution_count": null,
   "metadata": {},
   "outputs": [],
   "source": []
  }
 ],
 "metadata": {
  "kernelspec": {
   "display_name": "base",
   "language": "python",
   "name": "python3"
  },
  "language_info": {
   "codemirror_mode": {
    "name": "ipython",
    "version": 3
   },
   "file_extension": ".py",
   "mimetype": "text/x-python",
   "name": "python",
   "nbconvert_exporter": "python",
   "pygments_lexer": "ipython3",
   "version": "3.11.5"
  }
 },
 "nbformat": 4,
 "nbformat_minor": 2
}
